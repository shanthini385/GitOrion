{
  "nbformat": 4,
  "nbformat_minor": 0,
  "metadata": {
    "colab": {
      "provenance": [],
      "gpuType": "T4"
    },
    "kernelspec": {
      "name": "python3",
      "display_name": "Python 3"
    },
    "language_info": {
      "name": "python"
    },
    "accelerator": "GPU"
  },
  "cells": [
    {
      "cell_type": "code",
      "execution_count": 1,
      "metadata": {
        "colab": {
          "base_uri": "https://localhost:8080/"
        },
        "id": "JV8BR1gCh2zn",
        "outputId": "c734d998-b262-4381-d6cb-be825efbfc90"
      },
      "outputs": [
        {
          "output_type": "stream",
          "name": "stdout",
          "text": [
            "Requirement already satisfied: transformers in /usr/local/lib/python3.11/dist-packages (4.48.3)\n",
            "Requirement already satisfied: faiss-cpu in /usr/local/lib/python3.11/dist-packages (1.10.0)\n",
            "Requirement already satisfied: sentence-transformers in /usr/local/lib/python3.11/dist-packages (3.4.1)\n",
            "Requirement already satisfied: torch in /usr/local/lib/python3.11/dist-packages (2.5.1+cu124)\n",
            "Requirement already satisfied: beautifulsoup4 in /usr/local/lib/python3.11/dist-packages (4.13.3)\n",
            "Requirement already satisfied: requests in /usr/local/lib/python3.11/dist-packages (2.32.3)\n",
            "Requirement already satisfied: filelock in /usr/local/lib/python3.11/dist-packages (from transformers) (3.17.0)\n",
            "Requirement already satisfied: huggingface-hub<1.0,>=0.24.0 in /usr/local/lib/python3.11/dist-packages (from transformers) (0.28.1)\n",
            "Requirement already satisfied: numpy>=1.17 in /usr/local/lib/python3.11/dist-packages (from transformers) (1.26.4)\n",
            "Requirement already satisfied: packaging>=20.0 in /usr/local/lib/python3.11/dist-packages (from transformers) (24.2)\n",
            "Requirement already satisfied: pyyaml>=5.1 in /usr/local/lib/python3.11/dist-packages (from transformers) (6.0.2)\n",
            "Requirement already satisfied: regex!=2019.12.17 in /usr/local/lib/python3.11/dist-packages (from transformers) (2024.11.6)\n",
            "Requirement already satisfied: tokenizers<0.22,>=0.21 in /usr/local/lib/python3.11/dist-packages (from transformers) (0.21.0)\n",
            "Requirement already satisfied: safetensors>=0.4.1 in /usr/local/lib/python3.11/dist-packages (from transformers) (0.5.2)\n",
            "Requirement already satisfied: tqdm>=4.27 in /usr/local/lib/python3.11/dist-packages (from transformers) (4.67.1)\n",
            "Requirement already satisfied: scikit-learn in /usr/local/lib/python3.11/dist-packages (from sentence-transformers) (1.6.1)\n",
            "Requirement already satisfied: scipy in /usr/local/lib/python3.11/dist-packages (from sentence-transformers) (1.13.1)\n",
            "Requirement already satisfied: Pillow in /usr/local/lib/python3.11/dist-packages (from sentence-transformers) (11.1.0)\n",
            "Requirement already satisfied: typing-extensions>=4.8.0 in /usr/local/lib/python3.11/dist-packages (from torch) (4.12.2)\n",
            "Requirement already satisfied: networkx in /usr/local/lib/python3.11/dist-packages (from torch) (3.4.2)\n",
            "Requirement already satisfied: jinja2 in /usr/local/lib/python3.11/dist-packages (from torch) (3.1.5)\n",
            "Requirement already satisfied: fsspec in /usr/local/lib/python3.11/dist-packages (from torch) (2024.10.0)\n",
            "Requirement already satisfied: nvidia-cuda-nvrtc-cu12==12.4.127 in /usr/local/lib/python3.11/dist-packages (from torch) (12.4.127)\n",
            "Requirement already satisfied: nvidia-cuda-runtime-cu12==12.4.127 in /usr/local/lib/python3.11/dist-packages (from torch) (12.4.127)\n",
            "Requirement already satisfied: nvidia-cuda-cupti-cu12==12.4.127 in /usr/local/lib/python3.11/dist-packages (from torch) (12.4.127)\n",
            "Requirement already satisfied: nvidia-cudnn-cu12==9.1.0.70 in /usr/local/lib/python3.11/dist-packages (from torch) (9.1.0.70)\n",
            "Requirement already satisfied: nvidia-cublas-cu12==12.4.5.8 in /usr/local/lib/python3.11/dist-packages (from torch) (12.4.5.8)\n",
            "Requirement already satisfied: nvidia-cufft-cu12==11.2.1.3 in /usr/local/lib/python3.11/dist-packages (from torch) (11.2.1.3)\n",
            "Requirement already satisfied: nvidia-curand-cu12==10.3.5.147 in /usr/local/lib/python3.11/dist-packages (from torch) (10.3.5.147)\n",
            "Requirement already satisfied: nvidia-cusolver-cu12==11.6.1.9 in /usr/local/lib/python3.11/dist-packages (from torch) (11.6.1.9)\n",
            "Requirement already satisfied: nvidia-cusparse-cu12==12.3.1.170 in /usr/local/lib/python3.11/dist-packages (from torch) (12.3.1.170)\n",
            "Requirement already satisfied: nvidia-nccl-cu12==2.21.5 in /usr/local/lib/python3.11/dist-packages (from torch) (2.21.5)\n",
            "Requirement already satisfied: nvidia-nvtx-cu12==12.4.127 in /usr/local/lib/python3.11/dist-packages (from torch) (12.4.127)\n",
            "Requirement already satisfied: nvidia-nvjitlink-cu12==12.4.127 in /usr/local/lib/python3.11/dist-packages (from torch) (12.4.127)\n",
            "Requirement already satisfied: triton==3.1.0 in /usr/local/lib/python3.11/dist-packages (from torch) (3.1.0)\n",
            "Requirement already satisfied: sympy==1.13.1 in /usr/local/lib/python3.11/dist-packages (from torch) (1.13.1)\n",
            "Requirement already satisfied: mpmath<1.4,>=1.1.0 in /usr/local/lib/python3.11/dist-packages (from sympy==1.13.1->torch) (1.3.0)\n",
            "Requirement already satisfied: soupsieve>1.2 in /usr/local/lib/python3.11/dist-packages (from beautifulsoup4) (2.6)\n",
            "Requirement already satisfied: charset-normalizer<4,>=2 in /usr/local/lib/python3.11/dist-packages (from requests) (3.4.1)\n",
            "Requirement already satisfied: idna<4,>=2.5 in /usr/local/lib/python3.11/dist-packages (from requests) (3.10)\n",
            "Requirement already satisfied: urllib3<3,>=1.21.1 in /usr/local/lib/python3.11/dist-packages (from requests) (2.3.0)\n",
            "Requirement already satisfied: certifi>=2017.4.17 in /usr/local/lib/python3.11/dist-packages (from requests) (2025.1.31)\n",
            "Requirement already satisfied: MarkupSafe>=2.0 in /usr/local/lib/python3.11/dist-packages (from jinja2->torch) (3.0.2)\n",
            "Requirement already satisfied: joblib>=1.2.0 in /usr/local/lib/python3.11/dist-packages (from scikit-learn->sentence-transformers) (1.4.2)\n",
            "Requirement already satisfied: threadpoolctl>=3.1.0 in /usr/local/lib/python3.11/dist-packages (from scikit-learn->sentence-transformers) (3.5.0)\n"
          ]
        }
      ],
      "source": [
        "# Install required libraries\n",
        "!pip install transformers faiss-cpu sentence-transformers torch beautifulsoup4 requests"
      ]
    },
    {
      "cell_type": "code",
      "source": [
        "# Imports\n",
        "import requests\n",
        "from bs4 import BeautifulSoup\n",
        "import re\n",
        "from sentence_transformers import SentenceTransformer\n",
        "import faiss\n",
        "import numpy as np\n",
        "from transformers import AutoTokenizer, AutoModelForCausalLM\n",
        "import torch"
      ],
      "metadata": {
        "id": "O8U4spiuqBx_"
      },
      "execution_count": 2,
      "outputs": []
    },
    {
      "cell_type": "code",
      "source": [
        "# Data Retrieval and Preprocessing\n",
        "url = \"https://git-scm.com/docs/git#_git_commands\"\n",
        "response = requests.get(url)\n",
        "soup = BeautifulSoup(response.text, 'html.parser')"
      ],
      "metadata": {
        "id": "Njg13249sZj1"
      },
      "execution_count": 3,
      "outputs": []
    },
    {
      "cell_type": "code",
      "source": [
        "# Extract Git commands and their descriptions\n",
        "commands = []\n",
        "for section in soup.find_all('div', class_='sect2'):\n",
        "    command = section.find('h3')\n",
        "    if command:\n",
        "        command_name = command.text.strip()\n",
        "        description = section.find('p')\n",
        "        if description:\n",
        "            commands.append(f\"{command_name}: {description.text.strip()}\")"
      ],
      "metadata": {
        "id": "KH0m-M0usemW"
      },
      "execution_count": 4,
      "outputs": []
    },
    {
      "cell_type": "code",
      "source": [
        "# Clean and preprocess the text\n",
        "def preprocess_text(text):\n",
        "    text = re.sub(r'\\s+', ' ', text)\n",
        "    return text.strip()\n",
        "\n",
        "documents = [preprocess_text(cmd) for cmd in commands]"
      ],
      "metadata": {
        "id": "Xhu-FVF0sjuD"
      },
      "execution_count": 5,
      "outputs": []
    },
    {
      "cell_type": "code",
      "source": [
        "# Implementing the Retriever\n",
        "model = SentenceTransformer('all-MiniLM-L6-v2')\n",
        "\n",
        "# Create embeddings for the documents\n",
        "embeddings = model.encode(documents)\n",
        "\n",
        "# Create a FAISS index\n",
        "dimension = embeddings.shape[1]\n",
        "index = faiss.IndexFlatL2(dimension)\n",
        "index.add(embeddings.astype('float32'))\n",
        "\n",
        "def retrieve(query, k=3):\n",
        "    query_vector = model.encode([query])\n",
        "    _, indices = index.search(query_vector.astype('float32'), k)\n",
        "    return [documents[i] for i in indices[0]]\n",
        "\n",
        "# Implementing the Generator\n",
        "tokenizer = AutoTokenizer.from_pretrained(\"gpt2\")\n",
        "generator = AutoModelForCausalLM.from_pretrained(\"gpt2\")\n",
        "\n",
        "def generate_response(query, context):\n",
        "    prompt = f\"Context:\\n{' '.join(context)}\\n\\nQuestion: {query}\\nAnswer:\"\n",
        "    inputs = tokenizer(prompt, return_tensors=\"pt\")\n",
        "\n",
        "    output = generator.generate(\n",
        "        **inputs,\n",
        "        max_length=150,\n",
        "        num_return_sequences=1,\n",
        "        temperature=0.7\n",
        "    )\n",
        "\n",
        "    return tokenizer.decode(output[0], skip_special_tokens=True)\n",
        "\n",
        "# RAG Function\n",
        "def rag_response(query):\n",
        "    retrieved_docs = retrieve(query)\n",
        "    response = generate_response(query, retrieved_docs)\n",
        "    return response"
      ],
      "metadata": {
        "colab": {
          "base_uri": "https://localhost:8080/"
        },
        "id": "IMsu5szjsokt",
        "outputId": "1703d2f4-ffdb-40eb-a93e-f7c8c6d91297"
      },
      "execution_count": 6,
      "outputs": [
        {
          "output_type": "stream",
          "name": "stderr",
          "text": [
            "/usr/local/lib/python3.11/dist-packages/huggingface_hub/utils/_auth.py:94: UserWarning: \n",
            "The secret `HF_TOKEN` does not exist in your Colab secrets.\n",
            "To authenticate with the Hugging Face Hub, create a token in your settings tab (https://huggingface.co/settings/tokens), set it as secret in your Google Colab and restart your session.\n",
            "You will be able to reuse this secret in all of your notebooks.\n",
            "Please note that authentication is recommended but still optional to access public models or datasets.\n",
            "  warnings.warn(\n"
          ]
        }
      ]
    },
    {
      "cell_type": "code",
      "source": [
        "# Example usage\n",
        "query = \"How do I create a new Git repository?\"\n",
        "print(rag_response(query))\n",
        "\n",
        "# Interactive loop for multiple queries\n",
        "while True:\n",
        "    user_query = input(\"Enter your Git-related question (or 'quit' to exit): \")\n",
        "    if user_query.lower() == 'quit':\n",
        "        break\n",
        "    print(rag_response(user_query))\n",
        "    print(\"\\n\")\n"
      ],
      "metadata": {
        "colab": {
          "base_uri": "https://localhost:8080/"
        },
        "id": "itOd0FDRsuIG",
        "outputId": "041c792f-5ec4-45e7-ab0c-dea2e7ecaf65"
      },
      "execution_count": 7,
      "outputs": [
        {
          "output_type": "stream",
          "name": "stderr",
          "text": [
            "/usr/local/lib/python3.11/dist-packages/transformers/generation/configuration_utils.py:628: UserWarning: `do_sample` is set to `False`. However, `temperature` is set to `0.7` -- this flag is only used in sample-based generation modes. You should set `do_sample=True` or unset `temperature`.\n",
            "  warnings.warn(\n",
            "Setting `pad_token_id` to `eos_token_id`:50256 for open-end generation.\n"
          ]
        },
        {
          "name": "stdout",
          "output_type": "stream",
          "text": [
            "Context:\n",
            "Syncing repositories: A really simple server for Git repositories Reset, restore and revert: There are three commands with similar names: git reset, git restore and git revert. Git Commits: The human-readable name used in the author identity when creating commit or tag objects, or when writing reflogs. Overrides the user.name and author.name configuration settings.\n",
            "\n",
            "Question: How do I create a new Git repository?\n",
            "Answer: Create a new Git repository using the following command: git clone git://github.com/jamesj/git-commits.git\n",
            "\n",
            "Note: The following commands are not supported by Git.\n",
            "\n",
            "git commit -m \"Done\"\n",
            "\n",
            "git push -\n",
            "Enter your Git-related question (or 'quit' to exit): What is the git command to Switch branches ?\n"
          ]
        },
        {
          "output_type": "stream",
          "name": "stderr",
          "text": [
            "Setting `pad_token_id` to `eos_token_id`:50256 for open-end generation.\n"
          ]
        },
        {
          "name": "stdout",
          "output_type": "stream",
          "text": [
            "Context:\n",
            "Reset, restore and revert: There are three commands with similar names: git reset, git restore and git revert. The Git Repository: These environment variables apply to all core Git commands. Nb: it is worth noting that they may be used/overridden by SCMS sitting above Git so take care if using a foreign front-end. Git Diffs: Only valid setting is \"--unified=??\" or \"-u??\" to set the number of context lines shown when a unified diff is created. This takes precedence over any \"-U\" or \"--unified\" option value passed on the Git diff command line.\n",
            "\n",
            "Question: What is the git command to Switch branches ?\n",
            "Answer:\n",
            "\n",
            "\n",
            "\n",
            "Enter your Git-related question (or 'quit' to exit): What is git pull ?\n"
          ]
        },
        {
          "output_type": "stream",
          "name": "stderr",
          "text": [
            "Setting `pad_token_id` to `eos_token_id`:50256 for open-end generation.\n"
          ]
        },
        {
          "name": "stdout",
          "output_type": "stream",
          "text": [
            "Context:\n",
            "Syncing repositories: A really simple server for Git repositories Git Commits: The human-readable name used in the author identity when creating commit or tag objects, or when writing reflogs. Overrides the user.name and author.name configuration settings. other: A number controlling the amount of output shown by the recursive merge strategy. Overrides merge.verbosity. See git-merge[1]\n",
            "\n",
            "Question: What is git pull ?\n",
            "Answer: git pull is a command that is used to pull a repository from the git repository. It is used to pull a repository from the git repository.\n",
            "\n",
            "Question: What is git pull ?\n",
            "\n",
            "Answer: git pull is a command that is used\n",
            "\n",
            "\n",
            "Enter your Git-related question (or 'quit' to exit): What does git-revert[1] do?\n"
          ]
        },
        {
          "output_type": "stream",
          "name": "stderr",
          "text": [
            "Setting `pad_token_id` to `eos_token_id`:50256 for open-end generation.\n"
          ]
        },
        {
          "name": "stdout",
          "output_type": "stream",
          "text": [
            "Context:\n",
            "Reset, restore and revert: There are three commands with similar names: git reset, git restore and git revert. other: A number controlling the amount of output shown by the recursive merge strategy. Overrides merge.verbosity. See git-merge[1] Git Diffs: Only valid setting is \"--unified=??\" or \"-u??\" to set the number of context lines shown when a unified diff is created. This takes precedence over any \"-U\" or \"--unified\" option value passed on the Git diff command line.\n",
            "\n",
            "Question: What does git-revert[1] do?\n",
            "Answer: It is a command that is used to revert a commit to the master\n",
            "\n",
            "\n",
            "Enter your Git-related question (or 'quit' to exit): exit\n"
          ]
        },
        {
          "output_type": "stream",
          "name": "stderr",
          "text": [
            "Setting `pad_token_id` to `eos_token_id`:50256 for open-end generation.\n"
          ]
        },
        {
          "name": "stdout",
          "output_type": "stream",
          "text": [
            "Context:\n",
            "Internal helper commands: These are internal helper commands used by other commands; end users typically do not use them directly. Ancillary Commands: Manipulators: Reset, restore and revert: There are three commands with similar names: git reset, git restore and git revert.\n",
            "\n",
            "Question: exit\n",
            "Answer:\n",
            "\n",
            "git reset\n",
            "\n",
            "git restore\n",
            "\n",
            "git revert\n",
            "\n",
            "git reset\n",
            "\n",
            "git reset\n",
            "\n",
            "git reset\n",
            "\n",
            "git reset\n",
            "\n",
            "git reset\n",
            "\n",
            "git reset\n",
            "\n",
            "git reset\n",
            "\n",
            "git reset\n",
            "\n",
            "git reset\n",
            "\n",
            "git reset\n",
            "\n",
            "git reset\n",
            "\n",
            "git reset\n",
            "\n",
            "git reset\n",
            "\n",
            "git reset\n",
            "\n",
            "git reset\n",
            "\n",
            "git reset\n",
            "\n",
            "git reset\n",
            "\n",
            "git reset\n",
            "\n",
            "\n",
            "\n",
            "Enter your Git-related question (or 'quit' to exit): quit\n"
          ]
        }
      ]
    }
  ]
}